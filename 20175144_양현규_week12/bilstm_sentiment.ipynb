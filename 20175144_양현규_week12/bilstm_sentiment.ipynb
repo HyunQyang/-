{
 "cells": [
  {
   "cell_type": "code",
   "execution_count": 1,
   "metadata": {},
   "outputs": [],
   "source": [
    "from __future__ import print_function\n",
    "import numpy as np\n",
    "import pandas as pd\n",
    "\n",
    "from keras.preprocessing import sequence\n",
    "from keras.models import Sequential\n",
    "from keras.layers import Dense, Dropout, Embedding, LSTM, Bidirectional\n",
    "from keras.datasets import imdb\n",
    "\n",
    "from sklearn.metrics import accuracy_score,classification_report"
   ]
  },
  {
   "cell_type": "code",
   "execution_count": 2,
   "metadata": {},
   "outputs": [
    {
     "name": "stdout",
     "output_type": "stream",
     "text": [
      "25000 train observations\n",
      "25000 test observations\n"
     ]
    }
   ],
   "source": [
    "#imdb trainset\n",
    "max_features = 15000\n",
    "max_len = 300\n",
    "batch_size = 64\n",
    "\n",
    "# Loading data \n",
    "(x_train, y_train), (x_test, y_test) = imdb.load_data(num_words=max_features)\n",
    "print(len(x_train), 'train observations')\n",
    "print(len(x_test), 'test observations')"
   ]
  },
  {
   "cell_type": "code",
   "execution_count": 3,
   "metadata": {},
   "outputs": [
    {
     "name": "stdout",
     "output_type": "stream",
     "text": [
      "x_train shape: (25000, 300)\n",
      "x_test shape: (25000, 300)\n"
     ]
    }
   ],
   "source": [
    "x_train_2 = sequence.pad_sequences(x_train, maxlen=max_len)\n",
    "x_test_2 = sequence.pad_sequences(x_test, maxlen=max_len)\n",
    "print('x_train shape:', x_train_2.shape)\n",
    "print('x_test shape:', x_test_2.shape)\n",
    "\n",
    "y_train = np.array(y_train)\n",
    "y_test = np.array(y_test)"
   ]
  },
  {
   "cell_type": "code",
   "execution_count": 4,
   "metadata": {},
   "outputs": [
    {
     "name": "stdout",
     "output_type": "stream",
     "text": [
      "Model: \"sequential\"\n",
      "_________________________________________________________________\n",
      " Layer (type)                Output Shape              Param #   \n",
      "=================================================================\n",
      " embedding (Embedding)       (None, 300, 128)          1920000   \n",
      "                                                                 \n",
      " bidirectional (Bidirectiona  (None, 128)              98816     \n",
      " l)                                                              \n",
      "                                                                 \n",
      " dropout (Dropout)           (None, 128)               0         \n",
      "                                                                 \n",
      " dense (Dense)               (None, 1)                 129       \n",
      "                                                                 \n",
      "=================================================================\n",
      "Total params: 2,018,945\n",
      "Trainable params: 2,018,945\n",
      "Non-trainable params: 0\n",
      "_________________________________________________________________\n",
      "None\n"
     ]
    }
   ],
   "source": [
    "model = Sequential()\n",
    "model.add(Embedding(max_features, 128, input_length=max_len))\n",
    "model.add(Bidirectional(LSTM(64))) #양방향 LSTM레이어 정의\n",
    "model.add(Dropout(0.5))\n",
    "model.add(Dense(1, activation='sigmoid'))\n",
    "\n",
    "model.compile('adam', 'binary_crossentropy', metrics=['accuracy'])\n",
    "print(model.summary())"
   ]
  },
  {
   "cell_type": "code",
   "execution_count": 6,
   "metadata": {},
   "outputs": [
    {
     "name": "stdout",
     "output_type": "stream",
     "text": [
      "Epoch 1/4\n",
      "313/313 [==============================] - 78s 244ms/step - loss: 0.4689 - accuracy: 0.7784 - val_loss: 0.3742 - val_accuracy: 0.8434\n",
      "Epoch 2/4\n",
      "313/313 [==============================] - 75s 240ms/step - loss: 0.2547 - accuracy: 0.9036 - val_loss: 0.3322 - val_accuracy: 0.8746\n",
      "Epoch 3/4\n",
      "313/313 [==============================] - 76s 241ms/step - loss: 0.1928 - accuracy: 0.9287 - val_loss: 0.4362 - val_accuracy: 0.8670\n",
      "Epoch 4/4\n",
      "313/313 [==============================] - 76s 243ms/step - loss: 0.1258 - accuracy: 0.9561 - val_loss: 0.4175 - val_accuracy: 0.8686\n"
     ]
    },
    {
     "data": {
      "text/plain": [
       "<keras.callbacks.History at 0x1f07dc91730>"
      ]
     },
     "execution_count": 6,
     "metadata": {},
     "output_type": "execute_result"
    }
   ],
   "source": [
    "model.fit(x_train_2,y_train, batch_size = batch_size, epochs =4, validation_split = 0.2)"
   ]
  },
  {
   "cell_type": "code",
   "execution_count": 9,
   "metadata": {},
   "outputs": [
    {
     "name": "stdout",
     "output_type": "stream",
     "text": [
      "\n",
      "\n",
      "LSTM Bidirectional Sentiment Classification  - Train accuracy: 0.959\n",
      "\n",
      "LSTM Bidirectional Sentiment Classification of Training data\n",
      "               precision    recall  f1-score   support\n",
      "\n",
      "           0       0.96      0.95      0.96     12500\n",
      "           1       0.95      0.96      0.96     12500\n",
      "\n",
      "    accuracy                           0.96     25000\n",
      "   macro avg       0.96      0.96      0.96     25000\n",
      "weighted avg       0.96      0.96      0.96     25000\n",
      "\n",
      "\n",
      "LSTM Bidirectional Sentiment Classification - Train Confusion Matrix\n",
      "\n",
      " Predicted      0      1\n",
      "Actuall                \n",
      "0          11929    571\n",
      "1            448  12052\n",
      "\n",
      "LSTM Bidirectional Sentiment Classification  - Test accuracy: 0.864\n",
      "\n",
      "LSTM Bidirectional Sentiment Classification of Test data\n",
      "               precision    recall  f1-score   support\n",
      "\n",
      "           0       0.87      0.86      0.86     12500\n",
      "           1       0.86      0.87      0.86     12500\n",
      "\n",
      "    accuracy                           0.86     25000\n",
      "   macro avg       0.86      0.86      0.86     25000\n",
      "weighted avg       0.86      0.86      0.86     25000\n",
      "\n",
      "\n",
      "LSTM Bidirectional Sentiment Classification - Test Confusion Matrix\n",
      "\n",
      " Predicted      0      1\n",
      "Actuall                \n",
      "0          10711   1789\n",
      "1           1611  10889\n"
     ]
    }
   ],
   "source": [
    "y_train_predclass = np.round(model.predict(x_train_2)).astype(int)\n",
    "y_test_predclass = np.round(model.predict(x_test_2)).astype(int)\n",
    "\n",
    "y_train_predclass.shape = y_train.shape\n",
    "y_test_predclass.shape = y_test.shape\n",
    "#예측값과 실제값 출력.\n",
    "print ((\"\\n\\nLSTM Bidirectional Sentiment Classification  - Train accuracy:\"),(round(accuracy_score(y_train,y_train_predclass),3)))\n",
    "print (\"\\nLSTM Bidirectional Sentiment Classification of Training data\\n\",classification_report(y_train, y_train_predclass))\n",
    "print (\"\\nLSTM Bidirectional Sentiment Classification - Train Confusion Matrix\\n\\n\",pd.crosstab(y_train, y_train_predclass,rownames = [\"Actuall\"],colnames = [\"Predicted\"]))      \n",
    "\n",
    "print ((\"\\nLSTM Bidirectional Sentiment Classification  - Test accuracy:\"),(round(accuracy_score(y_test,y_test_predclass),3)))\n",
    "print (\"\\nLSTM Bidirectional Sentiment Classification of Test data\\n\",classification_report(y_test, y_test_predclass))\n",
    "print (\"\\nLSTM Bidirectional Sentiment Classification - Test Confusion Matrix\\n\\n\",pd.crosstab(y_test, y_test_predclass,rownames = [\"Actuall\"],colnames = [\"Predicted\"]))  "
   ]
  }
 ],
 "metadata": {
  "kernelspec": {
   "display_name": "Python 3",
   "language": "python",
   "name": "python3"
  },
  "language_info": {
   "codemirror_mode": {
    "name": "ipython",
    "version": 3
   },
   "file_extension": ".py",
   "mimetype": "text/x-python",
   "name": "python",
   "nbconvert_exporter": "python",
   "pygments_lexer": "ipython3",
   "version": "3.8.5"
  }
 },
 "nbformat": 4,
 "nbformat_minor": 4
}
