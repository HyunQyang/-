{
 "cells": [
  {
   "cell_type": "code",
   "execution_count": 5,
   "metadata": {},
   "outputs": [],
   "source": [
    "import nltk"
   ]
  },
  {
   "cell_type": "code",
   "execution_count": 6,
   "metadata": {},
   "outputs": [],
   "source": [
    "def builtinEngines(whichOne):\n",
    "    if whichOne == 'eliza':\n",
    "        nltk.chat.eliza.demo()\n",
    "    elif whichOne == 'iesha':\n",
    "        nltk.chat.iesha.demo()\n",
    "    elif whichOne == 'rude':\n",
    "        nltk.chat.rude.demo()\n",
    "    elif whichOne == 'suntsu':\n",
    "        nltk.chat.suntsu.demo()\n",
    "    elif whichOne == 'zen':\n",
    "        nltk.chat.zen.demo()\n",
    "    else:\n",
    "        print(\"알수없는 내장 채팅 엔진 {}\".format(whichOne))"
   ]
  },
  {
   "cell_type": "code",
   "execution_count": 7,
   "metadata": {},
   "outputs": [],
   "source": [
    "def myEngine():\n",
    "    chatpairs = (\n",
    "        (r\"(.*?)Stock price(.*)\",\n",
    "            (\"Today stock price is 100\",\n",
    "             \"I am unable to find out the stock price.\")),\n",
    "        (r\"(.*?)not well(.*)\",\n",
    "            (\"Oh, take care. May be you should visit a doctor\",\n",
    "             \"Did you take some medicine?\")),\n",
    "         (r\"(.*?)raining(.*)\",\n",
    "            (\"Its mosoon season, what more do you expect?\",\n",
    "             \"Yes, its good for farmers\")),\n",
    "         (r\"How(.*?)health(.*)\",\n",
    "            (\"I am always healthy.\",\n",
    "             \"I am a program, super healthy!\")),\n",
    "         (r\"*\",\n",
    "            (\"I am good.How are you today ?\",\n",
    "             \"What brings you here ?\"))\n",
    "    )\n",
    "    def chat():\n",
    "        print(\"!\"*80)\n",
    "        print(\">>내 엔진<<\")\n",
    "        print(\"=\"*80)\n",
    "        print(\"완료되면 'quit' 입력\")\n",
    "        chatbot = nltk.chat.util.Chat(chatpairs,nltk.chat.util.reflections)\n",
    "        chatbot.converse()\n",
    "        \n",
    "    chat()"
   ]
  },
  {
   "cell_type": "code",
   "execution_count": null,
   "metadata": {},
   "outputs": [
    {
     "name": "stdout",
     "output_type": "stream",
     "text": [
      "=== eliza 데모===\n",
      "Therapist\n",
      "---------\n",
      "Talk to the program by typing in plain English, using normal upper-\n",
      "and lower-case letters and punctuation.  Enter \"quit\" when done.\n",
      "========================================================================\n",
      "Hello.  How are you feeling today?\n",
      ">good\n",
      "Why do you say that good?\n",
      ">because it is good\n",
      "If it is good, what else must be true?\n",
      ">true\n",
      "Let's change focus a bit... Tell me about your family.\n",
      ">me and mother\n",
      "How does this relate to your feelings today?\n",
      ">good\n",
      "Very interesting.\n",
      ">^^\n",
      "I see.\n",
      ">ㅎㅎㅎ\n",
      "ㅎㅎㅎ.\n",
      ">ㅁㄴㅇㄹ\n",
      "Very interesting.\n",
      ">wat\n",
      "How does that make you feel?\n",
      ">good\n",
      "I see.\n",
      ">ㅎㅇㅎㅇ\n",
      "How does that make you feel?\n"
     ]
    }
   ],
   "source": [
    "if __name__ == '__main__':\n",
    "    for engine in ['eliza','iesha','rude','suntsu','zen']:\n",
    "        print(\"=== {} 데모===\".format(engine))\n",
    "        builtinEngines(engine)\n",
    "        print()\n",
    "    myEngine()"
   ]
  },
  {
   "cell_type": "code",
   "execution_count": null,
   "metadata": {},
   "outputs": [],
   "source": []
  }
 ],
 "metadata": {
  "kernelspec": {
   "display_name": "Python 3",
   "language": "python",
   "name": "python3"
  },
  "language_info": {
   "codemirror_mode": {
    "name": "ipython",
    "version": 3
   },
   "file_extension": ".py",
   "mimetype": "text/x-python",
   "name": "python",
   "nbconvert_exporter": "python",
   "pygments_lexer": "ipython3",
   "version": "3.8.5"
  }
 },
 "nbformat": 4,
 "nbformat_minor": 4
}
