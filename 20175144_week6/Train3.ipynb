{
 "cells": [
  {
   "cell_type": "code",
   "execution_count": null,
   "metadata": {},
   "outputs": [],
   "source": [
    "#다른 문장을 품사 태깅을 학습시켜, 새로운 문장에 학습시킨 정보를 이용"
   ]
  },
  {
   "cell_type": "code",
   "execution_count": 1,
   "metadata": {},
   "outputs": [],
   "source": [
    "import nltk"
   ]
  },
  {
   "cell_type": "code",
   "execution_count": 2,
   "metadata": {},
   "outputs": [
    {
     "name": "stderr",
     "output_type": "stream",
     "text": [
      "[nltk_data] Downloading package punkt to\n",
      "[nltk_data]     C:\\Users\\YangHyunKyu\\AppData\\Roaming\\nltk_data...\n",
      "[nltk_data]   Package punkt is already up-to-date!\n",
      "[nltk_data] Downloading package averaged_perceptron_tagger to\n",
      "[nltk_data]     C:\\Users\\YangHyunKyu\\AppData\\Roaming\\nltk_data...\n",
      "[nltk_data]   Package averaged_perceptron_tagger is already up-to-\n",
      "[nltk_data]       date!\n"
     ]
    },
    {
     "data": {
      "text/plain": [
       "True"
      ]
     },
     "execution_count": 2,
     "metadata": {},
     "output_type": "execute_result"
    }
   ],
   "source": [
    "import pickle #파일에 읽고 쓰는데 필요함.\n",
    "nltk.download('punkt')\n",
    "nltk.download('averaged_perceptron_tagger')"
   ]
  },
  {
   "cell_type": "code",
   "execution_count": 16,
   "metadata": {},
   "outputs": [],
   "source": [
    "def sampleData(): #샘플 데이터를 리턴하는함수.\n",
    "    return [\n",
    "        \"Bangalore is the capital of Karnataka\",\n",
    "        \"Steve Jobs was the CEO of Apple\",\n",
    "        \"iPhone was invented by Apple\",\n",
    "        \"Books can be purchased in Makrket\"\n",
    "    ]"
   ]
  },
  {
   "cell_type": "code",
   "execution_count": 30,
   "metadata": {},
   "outputs": [],
   "source": [
    "def buildDictionary():#사전 구축\n",
    "    dictionary = {}\n",
    "    for sent in sampleData(): #샘플 데이터에서 한문장 한문장 가져옴\n",
    "        partsOfSpeechTags = nltk.pos_tag(nltk.word_tokenize(sent)) #문장들을 바로 태깅함.\n",
    "        for tag in partsOfSpeechTags:\n",
    "            value = tag[0] #예를 들어 bangalore 들어감\n",
    "            pos = tag[1] #NNP가 들어감\n",
    "            dictionary[value] = pos #방갈로가 들어가면 NNP가 나오도록 만들어줌. 그렇게 사전을 만듦.\n",
    "    return dictionary"
   ]
  },
  {
   "cell_type": "code",
   "execution_count": 31,
   "metadata": {},
   "outputs": [],
   "source": [
    "def saveMyTagger(tagger,fileName): #파일에다가 태깅된 결과를 저장한다.\n",
    "    fileHandle = open(fileName,\"wb\")\n",
    "    pickle.dump(tagger,fileHandle)# 파일에 태그를 집어넣음.\n",
    "    fileHandle.close()"
   ]
  },
  {
   "cell_type": "code",
   "execution_count": 32,
   "metadata": {},
   "outputs": [],
   "source": [
    "def saveMyTraining(fileName):# 학습된결과(태깅을해서 사전을 만드는행위)를 저장함.\n",
    "    tagger = nltk.UnigramTagger(model = buildDictionary())\n",
    "    saveMyTagger(tagger,fileName)"
   ]
  },
  {
   "cell_type": "code",
   "execution_count": 36,
   "metadata": {},
   "outputs": [],
   "source": [
    "def loadMyTagger(fileName):#파일을 로드하는 함수.\n",
    "    return pickle.load(open(fileName,\"rb\"))"
   ]
  },
  {
   "cell_type": "code",
   "execution_count": 37,
   "metadata": {},
   "outputs": [],
   "source": [
    "sentence = 'Iphone is purchased by Steve Jobs in Bngalore Market'\n",
    "fileName = \"myTagger.pickle\""
   ]
  },
  {
   "cell_type": "code",
   "execution_count": 40,
   "metadata": {},
   "outputs": [
    {
     "name": "stdout",
     "output_type": "stream",
     "text": [
      "[('Iphone', None), ('is', 'VBZ'), ('purchased', 'VBN'), ('by', 'IN'), ('Steve', 'NNP'), ('Jobs', 'NNP'), ('in', 'IN'), ('Bngalore', None), ('Market', None)]\n"
     ]
    }
   ],
   "source": [
    "saveMyTraining(fileName)\n",
    "myTagger = loadMyTagger(fileName)\n",
    "print(myTagger.tag(nltk.word_tokenize(sentence)))"
   ]
  }
 ],
 "metadata": {
  "kernelspec": {
   "display_name": "Python 3",
   "language": "python",
   "name": "python3"
  },
  "language_info": {
   "codemirror_mode": {
    "name": "ipython",
    "version": 3
   },
   "file_extension": ".py",
   "mimetype": "text/x-python",
   "name": "python",
   "nbconvert_exporter": "python",
   "pygments_lexer": "ipython3",
   "version": "3.8.5"
  }
 },
 "nbformat": 4,
 "nbformat_minor": 4
}
