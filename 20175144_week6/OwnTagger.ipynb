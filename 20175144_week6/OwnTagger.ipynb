{
 "cells": [
  {
   "cell_type": "code",
   "execution_count": 1,
   "metadata": {},
   "outputs": [
    {
     "name": "stdout",
     "output_type": "stream",
     "text": [
      "Collecting python-crfsuite\n",
      "  Downloading python_crfsuite-0.9.7-cp38-cp38-win_amd64.whl (156 kB)\n",
      "Installing collected packages: python-crfsuite\n",
      "Successfully installed python-crfsuite-0.9.7\n",
      "Note: you may need to restart the kernel to use updated packages.\n"
     ]
    }
   ],
   "source": [
    "pip install python-crfsuite \n",
    "#tagger을 사용자에 맞게 만들기."
   ]
  },
  {
   "cell_type": "code",
   "execution_count": 5,
   "metadata": {},
   "outputs": [
    {
     "name": "stderr",
     "output_type": "stream",
     "text": [
      "[nltk_data] Downloading package punkt to\n",
      "[nltk_data]     C:\\Users\\YangHyunKyu\\AppData\\Roaming\\nltk_data...\n",
      "[nltk_data]   Package punkt is already up-to-date!\n",
      "[nltk_data] Downloading package averaged_perceptron_tagger to\n",
      "[nltk_data]     C:\\Users\\YangHyunKyu\\AppData\\Roaming\\nltk_data...\n",
      "[nltk_data]   Package averaged_perceptron_tagger is already up-to-\n",
      "[nltk_data]       date!\n"
     ]
    },
    {
     "data": {
      "text/plain": [
       "True"
      ]
     },
     "execution_count": 5,
     "metadata": {},
     "output_type": "execute_result"
    }
   ],
   "source": [
    "import nltk\n",
    "nltk.download('punkt')\n",
    "nltk.download('averaged_perceptron_tagger')"
   ]
  },
  {
   "cell_type": "code",
   "execution_count": 10,
   "metadata": {},
   "outputs": [],
   "source": [
    "#뭐가 나오든 한가지로 태깅.\n",
    "def learnDefaultTagger(simpleSentence):\n",
    "    wordsInSentence = nltk.word_tokenize(simpleSentence)\n",
    "    tagger = nltk.DefaultTagger(\"NN\")#뭐가 나오든 NN태그로 태깅\n",
    "    posEnabledTags = tagger.tag(wordsInSentence)\n",
    "    print(posEnabledTags)"
   ]
  },
  {
   "cell_type": "code",
   "execution_count": 28,
   "metadata": {},
   "outputs": [],
   "source": [
    "#정규표현식과 맞는 패턴이 나타나면 그렇게 태깅해라.\n",
    "def learnRETagger(simpleSentence): \n",
    "    customPatterns = [#정규표현식에 따라 마지막으로 뭐가 오는지에 따라 지정한대로 태깅.\n",
    "        (r',*ings$','ADJECTIVE'),\n",
    "        (r'.*ly$','ADVERB'),\n",
    "        (r'.*ion$','NOUN'),\n",
    "        (r'.*ly$','ADVERB'),\n",
    "        (r'(.*ate|.*en|is)$','VERB'),\n",
    "        (r'^an$,','INDEFINITE_ARTICLE'),#부정관사.\n",
    "        (r'^(with|on|at)$','PREPOSITION'),#전치사\n",
    "        (r'^\\-?[0-9]+(\\.-[0-9]+)$','NUMBER'),#-? 는 마이너스가 있어도되고 없어도되고 의미. 0-9 가 한번이상 나오면 숫자(소수도 포함)\n",
    "        (r'.*$',None)\n",
    "    ]\n",
    "    tagger = nltk.RegexpTagger(customPatterns)# 정의되있는 패턴들 파싱하는 정규표현식\n",
    "    wordsInSentence = nltk.word_tokenize(simpleSentence)#토큰화\n",
    "    posEnabledTags = tagger.tag(wordsInSentence)#토큰된 결과에 맞게 태깅.\n",
    "    print(posEnabledTags)"
   ]
  },
  {
   "cell_type": "code",
   "execution_count": 33,
   "metadata": {},
   "outputs": [],
   "source": [
    "#사전처럼 단어에 해당하는 품사 태깅\n",
    "def learnLookupTagger(simpleSentence):\n",
    "    mapping = {\n",
    "        '.':'.','place':'NN','on':'IN',\n",
    "        'earth':'NN','MySore':'NNP','is':'VBZ',\n",
    "        'an':'DT','anazubug':'JJ'\n",
    "    }\n",
    "    tagger = nltk.UnigramTagger(model = mapping)#파라미터에 모델을 줌.\n",
    "    wordsInSentence = nltk.word_tokenize(simpleSentence)\n",
    "    posEnabledTags = tagger.tag(wordsInSentence)\n",
    "    print(posEnabledTags) "
   ]
  },
  {
   "cell_type": "code",
   "execution_count": 32,
   "metadata": {},
   "outputs": [
    {
     "name": "stdout",
     "output_type": "stream",
     "text": [
      "[('MySore', 'NN'), ('is', 'NN'), ('an', 'NN'), ('amazing', 'NN'), ('place', 'NN'), ('on', 'NN'), ('earth', 'NN'), ('.', 'NN'), ('I', 'NN'), ('have', 'NN'), ('visited', 'NN'), ('Mysore', 'NN'), ('10', 'NN'), ('times', 'NN'), ('.', 'NN')]\n",
      "[('MySore', None), ('is', 'VERB'), ('an', None), ('amazing', None), ('place', None), ('on', 'PREPOSITION'), ('earth', None), ('.', None), ('I', None), ('have', None), ('visited', None), ('Mysore', None), ('10', None), ('times', None), ('.', None)]\n",
      "[('MySore', 'NNP'), ('is', 'VBZ'), ('an', 'DT'), ('amazing', None), ('place', 'NN'), ('on', 'IN'), ('earth', 'NN'), ('.', '.'), ('I', None), ('have', None), ('visited', None), ('Mysore', None), ('10', None), ('times', None), ('.', '.')]\n"
     ]
    }
   ],
   "source": [
    "if __name__ == '__main__':\n",
    "    testSentence = \"MySore is an amazing place on earth. I have visited Mysore 10 times.\"\n",
    "    learnDefaultTagger(testSentence)\n",
    "    learnRETagger(testSentence)\n",
    "    learnLookupTagger(testSentence)"
   ]
  }
 ],
 "metadata": {
  "kernelspec": {
   "display_name": "Python 3",
   "language": "python",
   "name": "python3"
  },
  "language_info": {
   "codemirror_mode": {
    "name": "ipython",
    "version": 3
   },
   "file_extension": ".py",
   "mimetype": "text/x-python",
   "name": "python",
   "nbconvert_exporter": "python",
   "pygments_lexer": "ipython3",
   "version": "3.8.5"
  }
 },
 "nbformat": 4,
 "nbformat_minor": 4
}
