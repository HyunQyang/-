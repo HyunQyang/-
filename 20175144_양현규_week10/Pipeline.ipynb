{
 "cells": [
  {
   "cell_type": "code",
   "execution_count": 29,
   "metadata": {},
   "outputs": [],
   "source": [
    "import nltk\n",
    "import threading\n",
    "import queue\n",
    "import feedparser\n",
    "import uuid"
   ]
  },
  {
   "cell_type": "code",
   "execution_count": 30,
   "metadata": {},
   "outputs": [],
   "source": [
    "threads = []\n",
    "queues =[queue.Queue() ,queue.Queue()]"
   ]
  },
  {
   "cell_type": "code",
   "execution_count": 31,
   "metadata": {},
   "outputs": [],
   "source": [
    "def extractWords():\n",
    "    url = 'http://timesofindia.indiatimes.com/rssfeeds/1081479906.cms'\n",
    "    feed = feedparser.parse(url)\n",
    "    for entry in feed['entries'][:5]:\n",
    "        text = entry['title']\n",
    "        if 'ex' in text:\n",
    "            continue\n",
    "        words = nltk.word_tokenize(text)\n",
    "        data = {'uuid':uuid.uuid4(), 'input':words}\n",
    "        queues[0].put(data,True)\n",
    "        print(\">> {} : {}\".format(data['uuid'],text))"
   ]
  },
  {
   "cell_type": "code",
   "execution_count": 32,
   "metadata": {},
   "outputs": [],
   "source": [
    "def extractPOS():\n",
    "    while True:\n",
    "        if queues[0].empty():\n",
    "            break\n",
    "        else:\n",
    "            data = queues[0].get()\n",
    "            words = data['input']\n",
    "            postags = nltk.pos_tag(words)\n",
    "            queues[0].task_done()\n",
    "            queues[1].put({'uuid':data['uuid'], 'input':postags},True)"
   ]
  },
  {
   "cell_type": "code",
   "execution_count": 33,
   "metadata": {},
   "outputs": [],
   "source": [
    "def extractNE():\n",
    "    while True:\n",
    "        if queues[1].empty():\n",
    "            break\n",
    "        else:\n",
    "            data = queues[1].get()\n",
    "            postags = data['input']\n",
    "            queues[1].task_done()\n",
    "            chunks = nltk.ne_chunk(postags, binary = False)\n",
    "            print(\"<< {} : \".format(data['uuid']), end='')\n",
    "            for path in chunks:\n",
    "                try:\n",
    "                    label = path.label()\n",
    "                    print(path, end =', ')\n",
    "                except:\n",
    "                    pass\n",
    "            print()"
   ]
  },
  {
   "cell_type": "code",
   "execution_count": 34,
   "metadata": {},
   "outputs": [],
   "source": [
    "def runProgram():\n",
    "    e = threading.Thread(target = extractWords())\n",
    "    e.start()\n",
    "    threads.append(e)\n",
    "    \n",
    "    p = threading.Thread(target = extractPOS())\n",
    "    p.start()\n",
    "    threas.append(p)\n",
    "    \n",
    "    n = threading.Thread(target = extractNE())\n",
    "    n.start()\n",
    "    threads.append(n)\n",
    "    \n",
    "    queues[0].join()\n",
    "    queues[1].join()\n",
    "    \n",
    "    for t in threads:\n",
    "        t.join()"
   ]
  },
  {
   "cell_type": "code",
   "execution_count": 35,
   "metadata": {},
   "outputs": [
    {
     "name": "stdout",
     "output_type": "stream",
     "text": [
      ">> fc3caf4c-69c2-4ba0-bf57-7b67cdece989 : Mahesh Manjrekar: I feel Salman Khan is lonely\n",
      ">> 16b089fe-fbbf-475e-a951-a7485a78ec0e : Karan recalls his first meeting with SRK\n",
      ">> e473f1d8-12d7-4cc9-8cf8-2c519253b437 : Dia 'grateful' for first Diwali with son\n",
      ">> 0aeebf95-a9a2-41f5-a293-8349bc046ab5 : 5 firecracker statements on B'wood by Nawaz\n",
      ">> 8754d16b-6c0c-4571-8133-8c9cc4f5bca8 : Pic: Fan pretends to be SRK, greets visitors\n",
      "<< fc3caf4c-69c2-4ba0-bf57-7b67cdece989 : (PERSON Mahesh/JJ Manjrekar/NNP), (PERSON Salman/NNP Khan/NNP), \n",
      "<< 16b089fe-fbbf-475e-a951-a7485a78ec0e : (GPE Karan/NNP), (ORGANIZATION SRK/NNP), \n",
      "<< e473f1d8-12d7-4cc9-8cf8-2c519253b437 : (GPE Dia/NNP), \n",
      "<< 0aeebf95-a9a2-41f5-a293-8349bc046ab5 : (PERSON Nawaz/NNP), \n",
      "<< 8754d16b-6c0c-4571-8133-8c9cc4f5bca8 : (ORGANIZATION SRK/NNP), \n"
     ]
    }
   ],
   "source": [
    "if __name__ == '__main__':\n",
    "    runProgram()"
   ]
  }
 ],
 "metadata": {
  "kernelspec": {
   "display_name": "Python 3",
   "language": "python",
   "name": "python3"
  },
  "language_info": {
   "codemirror_mode": {
    "name": "ipython",
    "version": 3
   },
   "file_extension": ".py",
   "mimetype": "text/x-python",
   "name": "python",
   "nbconvert_exporter": "python",
   "pygments_lexer": "ipython3",
   "version": "3.8.5"
  }
 },
 "nbformat": 4,
 "nbformat_minor": 4
}
