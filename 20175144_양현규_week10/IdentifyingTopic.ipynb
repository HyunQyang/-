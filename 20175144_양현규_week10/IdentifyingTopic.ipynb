{
 "cells": [
  {
   "cell_type": "code",
   "execution_count": 25,
   "metadata": {},
   "outputs": [
    {
     "name": "stdout",
     "output_type": "stream",
     "text": [
      "Requirement already satisfied: gensim in c:\\users\\yanghyunkyu\\anaconda3\\lib\\site-packages (4.1.2)\n",
      "Requirement already satisfied: smart-open>=1.8.1 in c:\\users\\yanghyunkyu\\anaconda3\\lib\\site-packages (from gensim) (5.2.1)\n",
      "Requirement already satisfied: numpy>=1.17.0 in c:\\users\\yanghyunkyu\\anaconda3\\lib\\site-packages (from gensim) (1.19.2)\n",
      "Requirement already satisfied: Cython==0.29.23 in c:\\users\\yanghyunkyu\\anaconda3\\lib\\site-packages (from gensim) (0.29.23)\n",
      "Requirement already satisfied: scipy>=0.18.1 in c:\\users\\yanghyunkyu\\anaconda3\\lib\\site-packages (from gensim) (1.5.2)\n"
     ]
    }
   ],
   "source": [
    "!pip install gensim\n",
    "from nltk.tokenize import RegexpTokenizer\n",
    "from nltk.corpus import stopwords\n",
    "from gensim import corpora,models\n",
    "import nltk\n",
    "import feedparser"
   ]
  },
  {
   "cell_type": "code",
   "execution_count": 30,
   "metadata": {},
   "outputs": [],
   "source": [
    "class IdentifyingTopicExample:\n",
    "    def getDocuments(self):\n",
    "        #url언급된 문서다운로드 -> feed라는 변수에 저장\n",
    "        url = 'https://sports.yahoo.com/mlb/rss.xml'\n",
    "        feed = feedparser.parse(url)\n",
    "        self.documents = []\n",
    "        #상위 5개 문서를 가져와 변수에 저장\n",
    "        for entry in feed['entries'][:5]:\n",
    "            text =  entry['summary']\n",
    "            #민감한 단어가 포함돼있음 해당단어 건너뜀.\n",
    "            if 'ex' in text:\n",
    "                continue\n",
    "            self.documents.append(text)\n",
    "            print(\"-- {}\".format(text))\n",
    "        print(\"INFO: Fetching documents from {} completed\".format(url))\n",
    "    #입력 텍스트를 지우는 역할을 하는 새로운 함수.\n",
    "    def cleanDocuments(self):\n",
    "        tokenizer = RegexpTokenizer(r'[a-zA-Z]+') #잘못된 데이터 못들어가게 방지\n",
    "        en_stop = set(stopwords.words('english'))\n",
    "        self.cleaned = []\n",
    "        for doc in self.documents:\n",
    "            lowercase_doc = doc.lower() #소문자 변환\n",
    "            words = tokenizer.tokenize(lowercase_doc)\n",
    "            non_stopped_words = [i for i in words if not i in en_stop] # 불용어 카테고리 ->무시, 나머지 모두 변수에 저장 \n",
    "            self.cleaned.append(non_stopped_words)\n",
    "        print(\"INFO: Cleaning {} documents completed\".format(len(self.documents)))\n",
    "    #LDA 분석을 수행하는 함수\n",
    "    def doLDA(self):\n",
    "        dictionary = corpora.Dictionary(self.cleaned) #문서들로 딕셔너리 생성\n",
    "        corpus = [dictionary.doc2bow(cleandoc) for cleandoc in self.cleaned] #정리된 각문장에 대한 단어들의 모음으로 정의됨\n",
    "        #토픽 2인 말뭉치모델 생성 , id2word 파라미터를 사용해 어휘크기 설정 -> 매핑\n",
    "        ldamodel = models.ldamodel.LdaModel(corpus, num_topics = 2, id2word = dictionary)\n",
    "        print(ldamodel.print_topics(num_topics = 2, num_words = 4))\n",
    "    #단계를 순서대로 수행하는 함수\n",
    "    def run(self):\n",
    "        self.getDocuments()\n",
    "        self.cleanDocuments()\n",
    "        self.doLDA()\n",
    "    \n",
    "    \n",
    "        \n",
    "    \n",
    "        "
   ]
  },
  {
   "cell_type": "code",
   "execution_count": 31,
   "metadata": {},
   "outputs": [
    {
     "name": "stdout",
     "output_type": "stream",
     "text": [
      "-- Houston shrugged off Atlanta's first-inning grand slam in a World Series elimination game, casually fighting back to keep its season alive.\n",
      "-- The Astros sent World Series back to Houston for Game 6, trailing 3-2 but brimming with confidence after coming back against Atlanta down four runs.\n",
      "-- Just in time, Carlos Correa and the Houston Astros broke out the bats.\n",
      "-- Astros come from behind for 9-5 win, force Game 6\n",
      "INFO: Fetching documents from https://sports.yahoo.com/mlb/rss.xml completed\n",
      "INFO: Cleaning 4 documents completed\n",
      "[(0, '0.054*\"astros\" + 0.049*\"game\" + 0.044*\"back\" + 0.042*\"world\"'), (1, '0.057*\"houston\" + 0.056*\"back\" + 0.052*\"game\" + 0.048*\"astros\"')]\n"
     ]
    }
   ],
   "source": [
    "if __name__ == '__main__':\n",
    "    topicExample = IdentifyingTopicExample()\n",
    "    topicExample.run()"
   ]
  }
 ],
 "metadata": {
  "kernelspec": {
   "display_name": "Python 3",
   "language": "python",
   "name": "python3"
  },
  "language_info": {
   "codemirror_mode": {
    "name": "ipython",
    "version": 3
   },
   "file_extension": ".py",
   "mimetype": "text/x-python",
   "name": "python",
   "nbconvert_exporter": "python",
   "pygments_lexer": "ipython3",
   "version": "3.8.5"
  }
 },
 "nbformat": 4,
 "nbformat_minor": 4
}
