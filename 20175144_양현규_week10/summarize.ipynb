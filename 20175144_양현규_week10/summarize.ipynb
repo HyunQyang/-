{
  "nbformat": 4,
  "nbformat_minor": 0,
  "metadata": {
    "colab": {
      "name": "summarize.ipynb",
      "provenance": []
    },
    "kernelspec": {
      "name": "python3",
      "display_name": "Python 3"
    },
    "language_info": {
      "name": "python"
    }
  },
  "cells": [
    {
      "cell_type": "code",
      "metadata": {
        "id": "bM4iVcTVrK9X"
      },
      "source": [
        "import requests\n",
        "from bs4 import BeautifulSoup\n",
        "from gensim.summarization.summarizer import summarize"
      ],
      "execution_count": 1,
      "outputs": []
    },
    {
      "cell_type": "code",
      "metadata": {
        "id": "LuZasQi0rQdr"
      },
      "source": [
        "#url 딕셔너리 정의\n",
        "urls = {\n",
        "    'Daff: Unproven Unification of Suffix Trees and Redundancy':\n",
        "    'http://scigen.csail.mit.edu/scicache/610/scimakelatex/21945.none.html',\n",
        "    'CausticIslet: Exploration of Rasterization':\n",
        "    'http://scigen.csail.mit.edu/sciache/790/scimakelatex.1499.none.html'\n",
        "}"
      ],
      "execution_count": 2,
      "outputs": []
    },
    {
      "cell_type": "code",
      "metadata": {
        "colab": {
          "base_uri": "https://localhost:8080/",
          "height": 0
        },
        "id": "VoUTKjBqrQbg",
        "outputId": "fd9804fe-1e62-4f83-842b-ed152db48c23"
      },
      "source": [
        "for key in urls.keys():\n",
        "    url = urls[key]\n",
        "    r = requests.get(url)\n",
        "    soup = BeautifulSoup(r.text, 'html.parser')\n",
        "    data = soup.get_text()\n",
        "    pos1 = data.find(\"1 Introduction\") + len(\"1 Introduction\")\n",
        "    pos2 = data.find(\"2 Related Work\")\n",
        "    text = data[pos1:pos2].strip()\n",
        "    print(\"PAPER URL: {}\".format(url))\n",
        "    print(\"TITLE: {}\".format(key))\n",
        "    print(\"GENERATED SUMMARY: {}\".format(summarize(text)))\n",
        "    print()"
      ],
      "execution_count": 3,
      "outputs": [
        {
          "output_type": "stream",
          "name": "stdout",
          "text": [
            "PAPER URL: http://scigen.csail.mit.edu/scicache/610/scimakelatex/21945.none.html\n",
            "TITLE: Daff: Unproven Unification of Suffix Trees and Redundancy\n",
            "GENERATED SUMMARY: \n",
            "\n",
            "PAPER URL: http://scigen.csail.mit.edu/sciache/790/scimakelatex.1499.none.html\n",
            "TITLE: CausticIslet: Exploration of Rasterization\n",
            "GENERATED SUMMARY: \n",
            "\n"
          ]
        }
      ]
    },
    {
      "cell_type": "code",
      "metadata": {
        "id": "XGJTgWbmrQZI"
      },
      "source": [
        ""
      ],
      "execution_count": null,
      "outputs": []
    },
    {
      "cell_type": "code",
      "metadata": {
        "id": "X2rp4OAmrQV4"
      },
      "source": [
        ""
      ],
      "execution_count": null,
      "outputs": []
    },
    {
      "cell_type": "code",
      "metadata": {
        "id": "-1EBAkUprQKs"
      },
      "source": [
        ""
      ],
      "execution_count": null,
      "outputs": []
    }
  ]
}