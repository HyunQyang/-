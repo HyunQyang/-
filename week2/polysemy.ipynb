{
  "nbformat": 4,
  "nbformat_minor": 0,
  "metadata": {
    "colab": {
      "name": "polysemy.ipynb",
      "provenance": [],
      "collapsed_sections": []
    },
    "kernelspec": {
      "name": "python3",
      "display_name": "Python 3"
    },
    "language_info": {
      "name": "python"
    }
  },
  "cells": [
    {
      "cell_type": "code",
      "metadata": {
        "colab": {
          "base_uri": "https://localhost:8080/"
        },
        "id": "WJjZBTuYFHFv",
        "outputId": "f8011d04-1e65-479e-9c50-201409de6aa5"
      },
      "source": [
        "import nltk\n",
        "nltk.download('wordnet')"
      ],
      "execution_count": 1,
      "outputs": [
        {
          "output_type": "stream",
          "name": "stdout",
          "text": [
            "[nltk_data] Downloading package wordnet to /root/nltk_data...\n",
            "[nltk_data]   Unzipping corpora/wordnet.zip.\n"
          ]
        },
        {
          "output_type": "execute_result",
          "data": {
            "text/plain": [
              "True"
            ]
          },
          "metadata": {},
          "execution_count": 1
        }
      ]
    },
    {
      "cell_type": "code",
      "metadata": {
        "id": "zmutzMvRFWyf"
      },
      "source": [
        "from nltk.corpus import wordnet as wn\n",
        "type = 'n'"
      ],
      "execution_count": 3,
      "outputs": []
    },
    {
      "cell_type": "code",
      "metadata": {
        "id": "DKcjjoyvFd5v"
      },
      "source": [
        "synsets = wn.all_synsets(type)"
      ],
      "execution_count": 4,
      "outputs": []
    },
    {
      "cell_type": "code",
      "metadata": {
        "id": "cmeAkQO_Flfa"
      },
      "source": [
        "lemmas =[]\n",
        "for synset in synsets:\n",
        "  for lemma in synset.lemmas():\n",
        "    lemmas.append(lemma.name())"
      ],
      "execution_count": 6,
      "outputs": []
    },
    {
      "cell_type": "code",
      "metadata": {
        "id": "ZsKqjrNPGDrM"
      },
      "source": [
        "lemmas = set(lemmas)"
      ],
      "execution_count": 7,
      "outputs": []
    },
    {
      "cell_type": "code",
      "metadata": {
        "id": "td6bORCcGGkY"
      },
      "source": [
        "count =0 \n",
        "for lemma in lemmas:\n",
        "  count = count + len(wn.synsets(lemma,type))"
      ],
      "execution_count": 9,
      "outputs": []
    },
    {
      "cell_type": "code",
      "metadata": {
        "colab": {
          "base_uri": "https://localhost:8080/"
        },
        "id": "mrUeuET8GR7l",
        "outputId": "8a412010-d89e-41dd-9d9a-ad5b34423b30"
      },
      "source": [
        "print('개별 기본형 합계: ',len(lemmas))\n",
        "print('총 뜻: ',count)\n",
        "print(type,'(명사)의 다의어 평균',count/len(lemmas))"
      ],
      "execution_count": 11,
      "outputs": [
        {
          "output_type": "stream",
          "name": "stdout",
          "text": [
            "개별 기본형 합계:  119033\n",
            "총 뜻:  152762\n",
            "n (명사)의 다의어 평균 1.2833583964110793\n"
          ]
        }
      ]
    }
  ]
}