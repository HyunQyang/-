{
  "nbformat": 4,
  "nbformat_minor": 0,
  "metadata": {
    "colab": {
      "name": "ambiguity.ipynb",
      "provenance": []
    },
    "kernelspec": {
      "name": "python3",
      "display_name": "Python 3"
    },
    "language_info": {
      "name": "python"
    }
  },
  "cells": [
    {
      "cell_type": "code",
      "metadata": {
        "colab": {
          "base_uri": "https://localhost:8080/"
        },
        "id": "RJTG5UwrBo-V",
        "outputId": "d1532be0-aaee-43b1-d316-fd9b914dfac3"
      },
      "source": [
        "import nltk\n",
        "nltk.download('wordnet')"
      ],
      "execution_count": 1,
      "outputs": [
        {
          "output_type": "stream",
          "name": "stdout",
          "text": [
            "[nltk_data] Downloading package wordnet to /root/nltk_data...\n",
            "[nltk_data]   Unzipping corpora/wordnet.zip.\n"
          ]
        },
        {
          "output_type": "execute_result",
          "data": {
            "text/plain": [
              "True"
            ]
          },
          "metadata": {},
          "execution_count": 1
        }
      ]
    },
    {
      "cell_type": "code",
      "metadata": {
        "id": "1Nwm-ccUB3bD"
      },
      "source": [
        "from nltk.corpus import wordnet as wn\n",
        "char = 'chair'"
      ],
      "execution_count": 4,
      "outputs": []
    },
    {
      "cell_type": "code",
      "metadata": {
        "colab": {
          "base_uri": "https://localhost:8080/"
        },
        "id": "0o3bFwTaCFN_",
        "outputId": "3211157e-a4f3-45f0-dcbd-c1591f844c0c"
      },
      "source": [
        "chair_synsets = wn.synsets('chair')\n",
        "print('의자(chair)의 뜻 Synsets : ',chair_synsets, '\\n\\n')"
      ],
      "execution_count": 8,
      "outputs": [
        {
          "output_type": "stream",
          "name": "stdout",
          "text": [
            "의자(chair)의 뜻 Synsets :  [Synset('chair.n.01'), Synset('professorship.n.01'), Synset('president.n.04'), Synset('electric_chair.n.01'), Synset('chair.n.05'), Synset('chair.v.01'), Synset('moderate.v.01')] \n",
            "\n",
            "\n"
          ]
        }
      ]
    },
    {
      "cell_type": "code",
      "metadata": {
        "colab": {
          "base_uri": "https://localhost:8080/"
        },
        "id": "nJUFB7ADCops",
        "outputId": "79a563f1-0222-4c71-da5b-de73cc5453b8"
      },
      "source": [
        "for synset in chair_synsets:\n",
        "  print(synset,':')\n",
        "  print('Definition: ',synset.definition())\n",
        "  print('Lemmas/Sysnonymous words: ', synset.lemma_names())\n",
        "  print('Examples: ', synset.examples(),'\\n')"
      ],
      "execution_count": 13,
      "outputs": [
        {
          "output_type": "stream",
          "name": "stdout",
          "text": [
            "Synset('chair.n.01') :\n",
            "Definition:  a seat for one person, with a support for the back\n",
            "Lemmas/Sysnonymous words:  ['chair']\n",
            "Examples:  ['he put his coat over the back of the chair and sat down'] \n",
            "\n",
            "Synset('professorship.n.01') :\n",
            "Definition:  the position of professor\n",
            "Lemmas/Sysnonymous words:  ['professorship', 'chair']\n",
            "Examples:  ['he was awarded an endowed chair in economics'] \n",
            "\n",
            "Synset('president.n.04') :\n",
            "Definition:  the officer who presides at the meetings of an organization\n",
            "Lemmas/Sysnonymous words:  ['president', 'chairman', 'chairwoman', 'chair', 'chairperson']\n",
            "Examples:  ['address your remarks to the chairperson'] \n",
            "\n",
            "Synset('electric_chair.n.01') :\n",
            "Definition:  an instrument of execution by electrocution; resembles an ordinary seat for one person\n",
            "Lemmas/Sysnonymous words:  ['electric_chair', 'chair', 'death_chair', 'hot_seat']\n",
            "Examples:  ['the murderer was sentenced to die in the chair'] \n",
            "\n",
            "Synset('chair.n.05') :\n",
            "Definition:  a particular seat in an orchestra\n",
            "Lemmas/Sysnonymous words:  ['chair']\n",
            "Examples:  ['he is second chair violin'] \n",
            "\n",
            "Synset('chair.v.01') :\n",
            "Definition:  act or preside as chair, as of an academic department in a university\n",
            "Lemmas/Sysnonymous words:  ['chair', 'chairman']\n",
            "Examples:  ['She chaired the department for many years'] \n",
            "\n",
            "Synset('moderate.v.01') :\n",
            "Definition:  preside over\n",
            "Lemmas/Sysnonymous words:  ['moderate', 'chair', 'lead']\n",
            "Examples:  ['John moderated the discussion'] \n",
            "\n"
          ]
        }
      ]
    }
  ]
}
