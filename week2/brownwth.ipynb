{
  "nbformat": 4,
  "nbformat_minor": 0,
  "metadata": {
    "colab": {
      "name": "brownwth.ipynb",
      "provenance": [],
      "collapsed_sections": []
    },
    "kernelspec": {
      "name": "python3",
      "display_name": "Python 3"
    },
    "language_info": {
      "name": "python"
    }
  },
  "cells": [
    {
      "cell_type": "code",
      "metadata": {
        "id": "EYjdv4l88hfZ"
      },
      "source": [
        "import nltk"
      ],
      "execution_count": 1,
      "outputs": []
    },
    {
      "cell_type": "code",
      "metadata": {
        "colab": {
          "base_uri": "https://localhost:8080/"
        },
        "id": "Fx7yn28R8wyl",
        "outputId": "581188d6-1ac1-4981-a545-286e860bdfd9"
      },
      "source": [
        "nltk.download('brown')\n",
        "from nltk.corpus import brown\n",
        "print(brown.categories())"
      ],
      "execution_count": 4,
      "outputs": [
        {
          "output_type": "stream",
          "name": "stdout",
          "text": [
            "[nltk_data] Downloading package brown to /root/nltk_data...\n",
            "[nltk_data]   Package brown is already up-to-date!\n",
            "['adventure', 'belles_lettres', 'editorial', 'fiction', 'government', 'hobbies', 'humor', 'learned', 'lore', 'mystery', 'news', 'religion', 'reviews', 'romance', 'science_fiction']\n"
          ]
        }
      ]
    },
    {
      "cell_type": "code",
      "metadata": {
        "id": "QRiVN0Pz9DOX"
      },
      "source": [
        "genres =['fiction','humor','romance']\n",
        "whwords = ['what','which','how','why','when','where','who']"
      ],
      "execution_count": 19,
      "outputs": []
    },
    {
      "cell_type": "code",
      "metadata": {
        "colab": {
          "base_uri": "https://localhost:8080/"
        },
        "id": "5G9pWJ8A9gPT",
        "outputId": "4c57e179-aa16-471f-ac76-9e75644bb1c1"
      },
      "source": [
        "for i in range(0,len(genres)):\n",
        "  genre = genres[i]\n",
        "  print()\n",
        "  print(\"'\" + genre +\"'wh단어분석\")\n",
        "  genre_text = brown.words(categories=genre)\n",
        "  fdist = nltk.FreqDist(genre_text)\n",
        "  for wh in whwords:\n",
        "    print(wh + ':',fdist[wh],end='')"
      ],
      "execution_count": 20,
      "outputs": [
        {
          "output_type": "stream",
          "name": "stdout",
          "text": [
            "\n",
            "'fiction'wh단어분석\n",
            "what: 128which: 123how: 54why: 18when: 133where: 76who: 103\n",
            "'humor'wh단어분석\n",
            "what: 36which: 62how: 18why: 9when: 52where: 15who: 48\n",
            "'romance'wh단어분석\n",
            "what: 121which: 104how: 60why: 34when: 126where: 54who: 89"
          ]
        }
      ]
    },
    {
      "cell_type": "code",
      "metadata": {
        "id": "GRsNxajU-uEM"
      },
      "source": [
        "fdist = nltk.FreqDist(genre_text)"
      ],
      "execution_count": 21,
      "outputs": []
    },
    {
      "cell_type": "code",
      "metadata": {
        "colab": {
          "base_uri": "https://localhost:8080/"
        },
        "id": "i1vVcu8R-5Gd",
        "outputId": "7fe66ee0-a24d-42ef-c863-0f36ddc773df"
      },
      "source": [
        "for wh in whwords:\n",
        "  print(wh+ ':', fdist[wh],end='')"
      ],
      "execution_count": 22,
      "outputs": [
        {
          "output_type": "stream",
          "name": "stdout",
          "text": [
            "what: 121which: 104how: 60why: 34when: 126where: 54who: 89"
          ]
        }
      ]
    }
  ]
}