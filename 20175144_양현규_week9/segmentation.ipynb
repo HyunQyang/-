{
 "cells": [
  {
   "cell_type": "code",
   "execution_count": 14,
   "metadata": {},
   "outputs": [],
   "source": [
    "import nltk"
   ]
  },
  {
   "cell_type": "code",
   "execution_count": 24,
   "metadata": {},
   "outputs": [],
   "source": [
    "def featureExtractor(words,i):\n",
    "    return ({'current-word':words[i],'next-is-upper':words[i+1][0].isupper()},words[i+1][0].isupper())\n",
    "\n"
   ]
  },
  {
   "cell_type": "code",
   "execution_count": 25,
   "metadata": {},
   "outputs": [],
   "source": [
    "def getFeaturesets(sentence):\n",
    "    words = nltk.word_tokenize(sentence)\n",
    "    featuresets = [featureExtractor(words,i) for i in range(1,len(words)-1) if words[i]=='.']\n",
    "    return featuresets\n"
   ]
  },
  {
   "cell_type": "code",
   "execution_count": 26,
   "metadata": {},
   "outputs": [],
   "source": [
    "def segmentTextAndPrintSentences(data):\n",
    "    words = nltk.word_tokenize(data)\n",
    "    for i in range(0,len(words)-1):\n",
    "        if words[i] == '.':\n",
    "            if classifier.classify(featureExtractor(words,i)[0]) == True:\n",
    "                print(\".\")\n",
    "            else:\n",
    "                print(words[i],end='')\n",
    "        else:\n",
    "            print(\"{}\".format(words[i]),end='')\n",
    "    print(words[-1])\n",
    "                    "
   ]
  },
  {
   "cell_type": "code",
   "execution_count": 27,
   "metadata": {},
   "outputs": [],
   "source": [
    "traindata =\"India, officially the Republic of India (Hindi: Bhārat Gaṇarājya),[23] is a country in South Asia. It is the seventh-largest country by area, the second-most populous country, and the most populous democracy in the world. Bounded by the Indian Ocean on the south, the Arabian Sea on the southwest, and the Bay of Bengal on the southeast, it shares land borders with Pakistan to the west;[f] China, Nepal, and Bhutan to the north; and Bangladesh and Myanmar to the east. In the Indian Ocean, India is in the vicinity of Sri Lanka and the Maldives; its Andaman and Nicobar Islands share a maritime border with Thailand, Myanmar and Indonesia.\""
   ]
  },
  {
   "cell_type": "code",
   "execution_count": 28,
   "metadata": {},
   "outputs": [],
   "source": [
    "testdata = \"The Indian subcontinent was home to the urban Indus Valley Civilisation of the 3rd millennnium BCE. In the following millennuim,tge ikdest scriotyres associated with  Hinduism began to be composed.Social stratification,based on caste, emerged in the first millenumBCE, andBuddhism and Gupta empires; the later penisular Middle Kingdoms influenced cultures as far as southeast Asia. in the medival era, Judaism,Zoroastrianism,Christianity, and Islam arrived, and Sikhism emerged, all adding to the region's diverse culture.Much of the north fell to the Delhi sultanate; the south was united under Vijayanagara Empire.In the mid-18th century, the subcontinent came under British East Company rule, and in the mid-19th under British crown rule.A nationalist movement emerged in the late 19th century, which later under Mahatma Gandhi,was noted for nonviolent resistance and led to India's independence in 1947\""
   ]
  },
  {
   "cell_type": "code",
   "execution_count": 29,
   "metadata": {},
   "outputs": [
    {
     "name": "stdout",
     "output_type": "stream",
     "text": [
      "TheIndiansubcontinentwashometotheurbanIndusValleyCivilisationofthe3rdmillennniumBCE.\n",
      "Inthefollowingmillennuim,tgeikdestscriotyresassociatedwithHinduismbegantobecomposed.Socialstratification,basedoncaste,emergedinthefirstmillenumBCE,andBuddhismandGuptaempires;thelaterpenisularMiddleKingdomsinfluencedculturesasfarassoutheastAsia.\n",
      "inthemedivalera,Judaism,Zoroastrianism,Christianity,andIslamarrived,andSikhismemerged,alladdingtotheregion'sdiverseculture.MuchofthenorthfelltotheDelhisultanate;thesouthwasunitedunderVijayanagaraEmpire.Inthemid-18thcentury,thesubcontinentcameunderBritishEastCompanyrule,andinthemid-19thunderBritishcrownrule.Anationalistmovementemergedinthelate19thcentury,whichlaterunderMahatmaGandhi,wasnotedfornonviolentresistanceandledtoIndia'sindependencein1947\n"
     ]
    }
   ],
   "source": [
    "traindataset = getFeaturesets(traindata)\n",
    "classifier = nltk.NaiveBayesClassifier.train(traindataset)\n",
    "segmentTextAndPrintSentences(testdata)"
   ]
  },
  {
   "cell_type": "code",
   "execution_count": null,
   "metadata": {},
   "outputs": [],
   "source": []
  }
 ],
 "metadata": {
  "kernelspec": {
   "display_name": "Python 3",
   "language": "python",
   "name": "python3"
  },
  "language_info": {
   "codemirror_mode": {
    "name": "ipython",
    "version": 3
   },
   "file_extension": ".py",
   "mimetype": "text/x-python",
   "name": "python",
   "nbconvert_exporter": "python",
   "pygments_lexer": "ipython3",
   "version": "3.8.5"
  }
 },
 "nbformat": 4,
 "nbformat_minor": 4
}
