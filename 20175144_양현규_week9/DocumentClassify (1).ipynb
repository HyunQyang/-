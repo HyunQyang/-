{
 "cells": [
  {
   "cell_type": "code",
   "execution_count": 16,
   "metadata": {},
   "outputs": [],
   "source": [
    "import nltk\n",
    "import random\n",
    "import feedparser"
   ]
  },
  {
   "cell_type": "code",
   "execution_count": 17,
   "metadata": {},
   "outputs": [],
   "source": [
    "urls ={\n",
    "        'mlb':'https://sports.yahoo.com/mlb/rss.xml',\n",
    "        'nfl':'https://sports.yahoo.com/nfl/rss.xml'\n",
    "}"
   ]
  },
  {
   "cell_type": "code",
   "execution_count": 18,
   "metadata": {},
   "outputs": [
    {
     "name": "stdout",
     "output_type": "stream",
     "text": [
      "downloading https://sports.yahoo.com/mlb/rss.xml\n",
      "downloading https://sports.yahoo.com/nfl/rss.xml\n"
     ]
    }
   ],
   "source": [
    "feedmap = {}\n",
    "stopwords = nltk.corpus.stopwords.words('english')\n",
    "\n",
    "def featureExtractor(words):\n",
    "    features ={}\n",
    "    for word in words:\n",
    "        if word not in stopwords:\n",
    "            features[\"word({})\".format(word)] = True\n",
    "    return features\n",
    "\n",
    "sentences = []\n",
    "\n",
    "for category in urls.keys():\n",
    "    feedmap[category] = feedparser.parse(urls[category])\n",
    "    print(\"downloading {}\".format(urls[category]))\n",
    "    for entry in feedmap[category]['entries']:\n",
    "        data = entry['summary']\n",
    "        words = data.split()\n",
    "        sentences.append((category,words))\n",
    "        \n"
   ]
  },
  {
   "cell_type": "code",
   "execution_count": 19,
   "metadata": {},
   "outputs": [],
   "source": [
    "featuresets = [(featureExtractor(words),category)for category,words in sentences]\n",
    "random.shuffle(featuresets)\n",
    "\n"
   ]
  },
  {
   "cell_type": "code",
   "execution_count": 20,
   "metadata": {},
   "outputs": [],
   "source": [
    "total = len(featuresets)\n",
    "off = int(total/2)\n",
    "trainset = featuresets[off:]\n",
    "testset = featuresets[:off]"
   ]
  },
  {
   "cell_type": "code",
   "execution_count": 21,
   "metadata": {},
   "outputs": [
    {
     "name": "stdout",
     "output_type": "stream",
     "text": [
      "0.8823529411764706\n"
     ]
    }
   ],
   "source": [
    "classifier = nltk.NaiveBayesClassifier.train(trainset)\n",
    "print(nltk.classify.accuracy(classifier,testset))"
   ]
  },
  {
   "cell_type": "code",
   "execution_count": 22,
   "metadata": {},
   "outputs": [
    {
     "name": "stdout",
     "output_type": "stream",
     "text": [
      "Most Informative Features\n",
      "           word(Angeles) = True              mlb : nfl    =      3.8 : 1.0\n",
      "             word(first) = True              mlb : nfl    =      2.4 : 1.0\n",
      "               word(Los) = True              mlb : nfl    =      2.3 : 1.0\n",
      "               word(The) = True              mlb : nfl    =      2.0 : 1.0\n",
      "            word(Braves) = None              nfl : mlb    =      1.8 : 1.0\n",
      "nfl -> Forget Super Bowl, are Chiefs a playoff team?\n",
      "mlb -> Matthew Stafford: It was cool to see Lions fans in L.A. wearing my jersey\n",
      "nfl -> NFL Week 7 winners and losers: Tom Brady still playing at an elite level. The AFC is a parity party.\n",
      "nfl -> Why Detroit Lions' D'Andre Swift is 'a stud, can't get him the ball enough'\n"
     ]
    }
   ],
   "source": [
    "classifier.show_most_informative_features(5)\n",
    "\n",
    "for (i,entry) in enumerate(feedmap['nfl']['entries']):\n",
    "    if i<4:\n",
    "        features = featureExtractor(entry['title'].split())\n",
    "        category = classifier.classify(features)\n",
    "        print(('{} -> {}'.format(category,entry['title'])))"
   ]
  }
 ],
 "metadata": {
  "kernelspec": {
   "display_name": "Python 3",
   "language": "python",
   "name": "python3"
  },
  "language_info": {
   "codemirror_mode": {
    "name": "ipython",
    "version": 3
   },
   "file_extension": ".py",
   "mimetype": "text/x-python",
   "name": "python",
   "nbconvert_exporter": "python",
   "pygments_lexer": "ipython3",
   "version": "3.8.5"
  }
 },
 "nbformat": 4,
 "nbformat_minor": 4
}
