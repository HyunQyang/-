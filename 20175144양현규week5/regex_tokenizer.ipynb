{
  "nbformat": 4,
  "nbformat_minor": 0,
  "metadata": {
    "colab": {
      "name": "regex_tokenizer.ipynb",
      "provenance": [],
      "collapsed_sections": []
    },
    "kernelspec": {
      "name": "python3",
      "display_name": "Python 3"
    },
    "language_info": {
      "name": "python"
    }
  },
  "cells": [
    {
      "cell_type": "code",
      "metadata": {
        "id": "-JSY4e7UCJq6"
      },
      "source": [
        "import re"
      ],
      "execution_count": 1,
      "outputs": []
    },
    {
      "cell_type": "code",
      "metadata": {
        "colab": {
          "base_uri": "https://localhost:8080/"
        },
        "id": "dnb2s3RUCN6p",
        "outputId": "3f0d0184-7db6-497f-c970-2fb6d29ad30e"
      },
      "source": [
        "raw = \"I am big! It's the pictures that got small.\"\n",
        "print(re.split(r' +',raw))\n",
        "#빈칸기준 스플릿"
      ],
      "execution_count": 4,
      "outputs": [
        {
          "output_type": "stream",
          "name": "stdout",
          "text": [
            "['I', 'am', 'big!', \"It's\", 'the', 'pictures', 'that', 'got', 'small.']\n"
          ]
        }
      ]
    },
    {
      "cell_type": "code",
      "metadata": {
        "colab": {
          "base_uri": "https://localhost:8080/"
        },
        "id": "82SiqvDACmtV",
        "outputId": "5d6241e8-5362-4688-f72b-f47d7981d1f3"
      },
      "source": [
        "print(re.split(r'\\w+',raw))\n",
        "#문자가 아닌걸 기준으로 스플릿."
      ],
      "execution_count": 7,
      "outputs": [
        {
          "output_type": "stream",
          "name": "stdout",
          "text": [
            "['', ' ', ' ', '! ', \"'\", ' ', ' ', ' ', ' ', ' ', '.']\n"
          ]
        }
      ]
    },
    {
      "cell_type": "code",
      "metadata": {
        "colab": {
          "base_uri": "https://localhost:8080/"
        },
        "id": "JUB-CfNlC4JP",
        "outputId": "96c9dc26-7351-441b-b8a9-6603f16a0418"
      },
      "source": [
        "print(re.findall(r'\\w+|\\S\\w*',raw))\n",
        "#패턴에 맞는거 가져옴.문자열이 아닌게 하나이상 나오든가,공백이 아닌문자열이 나오든가."
      ],
      "execution_count": 8,
      "outputs": [
        {
          "output_type": "stream",
          "name": "stdout",
          "text": [
            "['I', 'am', 'big', '!', 'It', \"'s\", 'the', 'pictures', 'that', 'got', 'small', '.']\n"
          ]
        }
      ]
    }
  ]
}