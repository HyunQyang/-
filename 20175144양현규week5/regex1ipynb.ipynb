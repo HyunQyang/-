{
  "nbformat": 4,
  "nbformat_minor": 0,
  "metadata": {
    "colab": {
      "name": "regex1ipynb",
      "provenance": [],
      "collapsed_sections": []
    },
    "kernelspec": {
      "name": "python3",
      "display_name": "Python 3"
    },
    "language_info": {
      "name": "python"
    }
  },
  "cells": [
    {
      "cell_type": "code",
      "metadata": {
        "id": "cCz0EOEP08-e"
      },
      "source": [
        "import re"
      ],
      "execution_count": 1,
      "outputs": []
    },
    {
      "cell_type": "code",
      "metadata": {
        "id": "wsF4YXW31DxR"
      },
      "source": [
        "def text_match(text,patterns):\n",
        "  if re.search(patterns,text):#주어진 패턴에 텍스트가 포함되면 not null (ture)리턴\n",
        "    return('일치하는 항목을 찾았습니다.')\n",
        "  else:\n",
        "    return('일치하지 않음.')"
      ],
      "execution_count": 3,
      "outputs": []
    },
    {
      "cell_type": "code",
      "metadata": {
        "colab": {
          "base_uri": "https://localhost:8080/"
        },
        "id": "SE7tJ0NW1pzg",
        "outputId": "12833baa-675b-4112-f1a4-659ec5ea3875"
      },
      "source": [
        "print(text_match(\"ac\",\"ab?\"))\n",
        "print(text_match(\"abc\",\"ab?\")) #a혹은 ab인경우 true\n",
        "print(text_match(\"abbc\",\"ab?\"))\n",
        "#?는 있어도되고 없어도되고 한거.즉 b는 옵션이다 이런의미"
      ],
      "execution_count": 4,
      "outputs": [
        {
          "output_type": "stream",
          "name": "stdout",
          "text": [
            "일치하는 항목을 찾았습니다.\n",
            "일치하는 항목을 찾았습니다.\n",
            "일치하는 항목을 찾았습니다.\n"
          ]
        }
      ]
    },
    {
      "cell_type": "code",
      "metadata": {
        "colab": {
          "base_uri": "https://localhost:8080/"
        },
        "id": "oMRvWxlM15qU",
        "outputId": "7cb3ca80-0d29-4743-c98e-46873114f783"
      },
      "source": [
        "print(text_match(\"ac\",\"ab*\"))\n",
        "print(text_match(\"abc\",\"ab*\"))\n",
        "print(text_match(\"abbc\",\"ab*\"))\n",
        "#*는 a가 하나만 true면 그냥 다 true."
      ],
      "execution_count": 7,
      "outputs": [
        {
          "output_type": "stream",
          "name": "stdout",
          "text": [
            "일치하는 항목을 찾았습니다.\n",
            "일치하는 항목을 찾았습니다.\n",
            "일치하는 항목을 찾았습니다.\n"
          ]
        }
      ]
    },
    {
      "cell_type": "code",
      "metadata": {
        "colab": {
          "base_uri": "https://localhost:8080/"
        },
        "id": "M1vl7ji62mIR",
        "outputId": "3c9d1304-ffa8-4c61-ef88-f3d32d8f287a"
      },
      "source": [
        "print(text_match(\"ac\",\"ab+\"))\n",
        "print(text_match(\"abc\",\"ab+\")) \n",
        "print(text_match(\"abbc\",\"ab+\"))\n",
        "#+는 1번 혹은 더 이상. ab가 한번 이상나와야지만 됨."
      ],
      "execution_count": 8,
      "outputs": [
        {
          "output_type": "stream",
          "name": "stdout",
          "text": [
            "일치하지 않음.\n",
            "일치하는 항목을 찾았습니다.\n",
            "일치하는 항목을 찾았습니다.\n"
          ]
        }
      ]
    },
    {
      "cell_type": "code",
      "metadata": {
        "colab": {
          "base_uri": "https://localhost:8080/"
        },
        "id": "Aoo77oRB3LAF",
        "outputId": "8cedefac-6e49-4903-9b09-6c63e09685fe"
      },
      "source": [
        "print(text_match(\"abbc\",\"ab{2}\"))\n",
        "#b가 2번 있는가?"
      ],
      "execution_count": 9,
      "outputs": [
        {
          "output_type": "stream",
          "name": "stdout",
          "text": [
            "일치하는 항목을 찾았습니다.\n"
          ]
        }
      ]
    },
    {
      "cell_type": "code",
      "metadata": {
        "colab": {
          "base_uri": "https://localhost:8080/"
        },
        "id": "3tfpa1WQ3SaT",
        "outputId": "f2855e55-52a2-48e8-c703-5ad5ae653b31"
      },
      "source": [
        "print(text_match(\"aabbbbc\",\"ab{3,5}?\"))\n",
        "#3~5사이는 4임. 즉 b가 4번 나오는게 있는가?"
      ],
      "execution_count": 10,
      "outputs": [
        {
          "output_type": "stream",
          "name": "stdout",
          "text": [
            "일치하는 항목을 찾았습니다.\n"
          ]
        }
      ]
    }
  ]
}