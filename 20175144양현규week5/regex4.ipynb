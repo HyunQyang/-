{
  "nbformat": 4,
  "nbformat_minor": 0,
  "metadata": {
    "colab": {
      "name": "regex4.ipynb",
      "provenance": []
    },
    "kernelspec": {
      "name": "python3",
      "display_name": "Python 3"
    },
    "language_info": {
      "name": "python"
    }
  },
  "cells": [
    {
      "cell_type": "code",
      "metadata": {
        "id": "ssW_Dled9I5_"
      },
      "source": [
        "import re"
      ],
      "execution_count": 13,
      "outputs": []
    },
    {
      "cell_type": "code",
      "metadata": {
        "id": "xeqOq03IAECm"
      },
      "source": [
        "url = \"http://www.telegraph.co.uk/formlua-1/2018/10/28/mexican-grand-prix-2017-tine-does-start-tv-channel-odds-lewis1/\"\n",
        "date_regex = '/(\\d{4}/(\\d{1,2})/\\d{1,2})/'"
      ],
      "execution_count": 14,
      "outputs": []
    },
    {
      "cell_type": "code",
      "metadata": {
        "colab": {
          "base_uri": "https://localhost:8080/"
        },
        "id": "ISrIi3wsAp5f",
        "outputId": "1558ba81-7da4-4498-c503-eae8afe073bc"
      },
      "source": [
        "print(\"URL에서 찾은 날짜 :\",re.findall(date_regex,url))"
      ],
      "execution_count": 15,
      "outputs": [
        {
          "output_type": "stream",
          "name": "stdout",
          "text": [
            "URL에서 찾은 날짜 : [('2018/10/28', '10')]\n"
          ]
        }
      ]
    },
    {
      "cell_type": "code",
      "metadata": {
        "id": "cghyXaraA7qj"
      },
      "source": [
        "def is_allowed_specific_char(string):\n",
        "  charRe = re.compile(r'[^a-zA-Z0-9.]')\n",
        "  string = charRe.search(string)\n",
        "  return not bool(string)"
      ],
      "execution_count": 22,
      "outputs": []
    },
    {
      "cell_type": "code",
      "metadata": {
        "colab": {
          "base_uri": "https://localhost:8080/"
        },
        "id": "JDo7RHtiBLxk",
        "outputId": "976bd145-1db1-4672-eec8-03696fbca5b0"
      },
      "source": [
        "print(is_allowed_specific_char( \"ABCDEFabcdef123450.\" ))\n",
        "print(is_allowed_specific_char(\"*&@#!}{}\"))"
      ],
      "execution_count": 23,
      "outputs": [
        {
          "output_type": "stream",
          "name": "stdout",
          "text": [
            "True\n",
            "False\n"
          ]
        }
      ]
    },
    {
      "cell_type": "code",
      "metadata": {
        "id": "cJENejxQB5Z_"
      },
      "source": [
        ""
      ],
      "execution_count": null,
      "outputs": []
    }
  ]
}