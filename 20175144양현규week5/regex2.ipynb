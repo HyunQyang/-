{
  "nbformat": 4,
  "nbformat_minor": 0,
  "metadata": {
    "colab": {
      "name": "regex2.ipynb",
      "provenance": [],
      "collapsed_sections": []
    },
    "kernelspec": {
      "name": "python3",
      "display_name": "Python 3"
    },
    "language_info": {
      "name": "python"
    }
  },
  "cells": [
    {
      "cell_type": "code",
      "metadata": {
        "id": "cuNS3ckc4Q93"
      },
      "source": [
        "import re"
      ],
      "execution_count": 1,
      "outputs": []
    },
    {
      "cell_type": "code",
      "metadata": {
        "id": "1a2mJXHz4Vix"
      },
      "source": [
        "def text_match(text,patterns):\n",
        "  if re.search(patterns,text):\n",
        "    return('일치하는 항목을 찾았습니다.')\n",
        "  else:\n",
        "    return('일치하지 않음.')"
      ],
      "execution_count": 2,
      "outputs": []
    },
    {
      "cell_type": "code",
      "metadata": {
        "colab": {
          "base_uri": "https://localhost:8080/"
        },
        "id": "64fxtpre4iPZ",
        "outputId": "510cf49a-95d5-484b-e358-6e9d36226dcc"
      },
      "source": [
        "print(\"테스트 패턴은 다음으로 시작하고 끝남\")\n",
        "print(text_match(\"abbc\",\"^a.*c$\"))\n",
        "# ^:시작, .*$:끝 포인터."
      ],
      "execution_count": 4,
      "outputs": [
        {
          "output_type": "stream",
          "name": "stdout",
          "text": [
            "테스트 패턴은 다음으로 시작하고 끝남\n",
            "일치하는 항목을 찾았습니다.\n"
          ]
        }
      ]
    },
    {
      "cell_type": "code",
      "metadata": {
        "colab": {
          "base_uri": "https://localhost:8080/"
        },
        "id": "sLrcYArD5S5_",
        "outputId": "cc948be6-8354-4c72-c2e8-9223146bf02b"
      },
      "source": [
        "print(\"단어로 시작함\")\n",
        "print(text_match(\"Tuffy eats pie.Loki eats peas!\",\"^\\w+\"))\n",
        "#알파벳과 숫자를 찾음. "
      ],
      "execution_count": 5,
      "outputs": [
        {
          "output_type": "stream",
          "name": "stdout",
          "text": [
            "단어로 시작함\n",
            "일치하는 항목을 찾았습니다.\n"
          ]
        }
      ]
    },
    {
      "cell_type": "code",
      "metadata": {
        "colab": {
          "base_uri": "https://localhost:8080/"
        },
        "id": "nRAqrl5i6MYZ",
        "outputId": "86c0db6f-260d-4a11-a3a1-c22d03f37f73"
      },
      "source": [
        "print(\"단어와 선택적 문장부호로 시작함\")\n",
        "print(text_match(\"Tuffy eats pie.Loki eats peas!\",\"\\w+\\S*?$\"))\n",
        "#앞에선 알파벳과 숫자를 찾고, 끝에선 공백아닌문자를 찾기에 !나와서 이게맞음."
      ],
      "execution_count": 6,
      "outputs": [
        {
          "output_type": "stream",
          "name": "stdout",
          "text": [
            "단어와 선택적 문장부호로 시작함\n",
            "일치하는 항목을 찾았습니다.\n"
          ]
        }
      ]
    },
    {
      "cell_type": "code",
      "metadata": {
        "colab": {
          "base_uri": "https://localhost:8080/"
        },
        "id": "TLHCc9Pk6wZJ",
        "outputId": "44fd1e2a-c3d4-469b-a925-59a9021153ac"
      },
      "source": [
        "print(\"단어의 시작이나 끝이 아닌 문자가 포함된 단어 찾기\")\n",
        "print(text_match(\"Tuffy eats pie.Loki eats peas!\",\"\\Bu\\B\"))\n",
        "#문자와 공백사이가 아닌값 찾음'_'"
      ],
      "execution_count": 7,
      "outputs": [
        {
          "output_type": "stream",
          "name": "stdout",
          "text": [
            "단어의 시작이나 끝이 아닌 문자가 포함된 단어 찾기\n",
            "일치하는 항목을 찾았습니다.\n"
          ]
        }
      ]
    }
  ]
}