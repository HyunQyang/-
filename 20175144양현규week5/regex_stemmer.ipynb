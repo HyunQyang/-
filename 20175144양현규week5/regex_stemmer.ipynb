{
  "nbformat": 4,
  "nbformat_minor": 0,
  "metadata": {
    "colab": {
      "name": "regex_stemmer.ipynb",
      "provenance": [],
      "collapsed_sections": []
    },
    "kernelspec": {
      "name": "python3",
      "display_name": "Python 3"
    },
    "language_info": {
      "name": "python"
    }
  },
  "cells": [
    {
      "cell_type": "code",
      "metadata": {
        "id": "3EZ8YQ0kDfuQ"
      },
      "source": [
        "import re"
      ],
      "execution_count": 3,
      "outputs": []
    },
    {
      "cell_type": "code",
      "metadata": {
        "id": "E3snf-UJDw9c"
      },
      "source": [
        "def stem(word):\n",
        "  splits = re.findall(r'^(.*?)(ing|ly|ed|ious|ive|s|ment)?$',word)\n",
        "  stem = splits[0][0]\n",
        "  return stem\n",
        "#어근과 접사를 나누어 주는 stem정의."
      ],
      "execution_count": 8,
      "outputs": []
    },
    {
      "cell_type": "code",
      "metadata": {
        "colab": {
          "base_uri": "https://localhost:8080/"
        },
        "id": "MYeAPXI2EDqu",
        "outputId": "41132a99-a615-421c-a8f2-dcb22847d891"
      },
      "source": [
        "raw = \"Keep your friends close, but your enemies closer.\"\n",
        "tokens = re.findall(r'|w+|\\S\\w*',raw)\n",
        "print(tokens)\n",
        "#토큰화 시킴."
      ],
      "execution_count": 9,
      "outputs": [
        {
          "output_type": "stream",
          "name": "stdout",
          "text": [
            "['', 'Keep', '', '', 'your', '', '', 'friends', '', '', 'close', '', ',', '', '', 'but', '', '', 'your', '', '', 'enemies', '', '', 'closer', '', '.', '']\n"
          ]
        }
      ]
    },
    {
      "cell_type": "code",
      "metadata": {
        "colab": {
          "base_uri": "https://localhost:8080/"
        },
        "id": "iiHtZj3nEnvI",
        "outputId": "6d4c2712-13da-4b01-fe9a-e11698a26f68"
      },
      "source": [
        "for t in tokens:\n",
        "  print(\"'\" + stem(t) +\"'\")"
      ],
      "execution_count": 10,
      "outputs": [
        {
          "output_type": "stream",
          "name": "stdout",
          "text": [
            "''\n",
            "'Keep'\n",
            "''\n",
            "''\n",
            "'your'\n",
            "''\n",
            "''\n",
            "'friend'\n",
            "''\n",
            "''\n",
            "'close'\n",
            "''\n",
            "','\n",
            "''\n",
            "''\n",
            "'but'\n",
            "''\n",
            "''\n",
            "'your'\n",
            "''\n",
            "''\n",
            "'enemie'\n",
            "''\n",
            "''\n",
            "'closer'\n",
            "''\n",
            "'.'\n",
            "''\n"
          ]
        }
      ]
    }
  ]
}