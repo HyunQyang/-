{
  "nbformat": 4,
  "nbformat_minor": 0,
  "metadata": {
    "colab": {
      "name": "regex_assignment.ipynb",
      "provenance": []
    },
    "kernelspec": {
      "name": "python3",
      "display_name": "Python 3"
    },
    "language_info": {
      "name": "python"
    }
  },
  "cells": [
    {
      "cell_type": "code",
      "metadata": {
        "id": "XkajzY_W9Oct"
      },
      "source": [
        "import re"
      ],
      "execution_count": 1,
      "outputs": []
    },
    {
      "cell_type": "code",
      "metadata": {
        "colab": {
          "base_uri": "https://localhost:8080/"
        },
        "id": "AKA05d1c9UTk",
        "outputId": "64732bb0-0d07-429a-8f3c-2f55201b528b"
      },
      "source": [
        "street = '21 Teheran Road'\n",
        "print(re.sub('Road','Rd',street))\n",
        "#Road를 Rd로 바꿈,"
      ],
      "execution_count": 2,
      "outputs": [
        {
          "output_type": "stream",
          "name": "stdout",
          "text": [
            "21 Teheran Rd\n"
          ]
        }
      ]
    },
    {
      "cell_type": "code",
      "metadata": {
        "colab": {
          "base_uri": "https://localhost:8080/"
        },
        "id": "HCAttoKs9kwp",
        "outputId": "6c7171b7-3c10-4b91-b64a-68dd8c302605"
      },
      "source": [
        "text = 'Diwali is a festival of light,Holi is a festival of color'\n",
        "print(re.findall(r\"\\b\\w{5}\\b\",text))"
      ],
      "execution_count": 3,
      "outputs": [
        {
          "output_type": "stream",
          "name": "stdout",
          "text": [
            "['light', 'color']\n"
          ]
        }
      ]
    }
  ]
}