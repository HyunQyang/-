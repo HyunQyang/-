{
  "nbformat": 4,
  "nbformat_minor": 0,
  "metadata": {
    "colab": {
      "name": "regex3.ipynb",
      "provenance": [],
      "collapsed_sections": []
    },
    "kernelspec": {
      "name": "python3",
      "display_name": "Python 3"
    },
    "language_info": {
      "name": "python"
    }
  },
  "cells": [
    {
      "cell_type": "code",
      "metadata": {
        "id": "S4_yG7ek7PjH"
      },
      "source": [
        "import re"
      ],
      "execution_count": 1,
      "outputs": []
    },
    {
      "cell_type": "code",
      "metadata": {
        "id": "1N7p5V4r7XvY"
      },
      "source": [
        "patterns =['Tuffy','Pie','Loki']\n",
        "text = 'Tuffy eats pie,Loki eats peas!'"
      ],
      "execution_count": 2,
      "outputs": []
    },
    {
      "cell_type": "code",
      "metadata": {
        "colab": {
          "base_uri": "https://localhost:8080/"
        },
        "id": "Q5fXld_T7k8p",
        "outputId": "ebb2055b-e31b-400d-f712-13e36ecb46b6"
      },
      "source": [
        "for pattern in patterns:\n",
        "  print('\"%s\" 에서 \"%s\"검색중 ->'%(text,pattern),)\n",
        "  if re.search(pattern,text):\n",
        "    print('찾았습니다!')\n",
        "  else:\n",
        "    print('찾을 수 없습니다!')\n",
        "#2번째 는 대소문자 구분이 안되서 오류임."
      ],
      "execution_count": 3,
      "outputs": [
        {
          "output_type": "stream",
          "name": "stdout",
          "text": [
            "\"Tuffy eats pie,Loki eats peas!\" 에서 \"Tuffy\"검색중 ->\n",
            "찾았습니다!\n",
            "\"Tuffy eats pie,Loki eats peas!\" 에서 \"Pie\"검색중 ->\n",
            "찾을 수 없습니다!\n",
            "\"Tuffy eats pie,Loki eats peas!\" 에서 \"Loki\"검색중 ->\n",
            "찾았습니다!\n"
          ]
        }
      ]
    },
    {
      "cell_type": "code",
      "metadata": {
        "id": "Skp9rb7S8GUY"
      },
      "source": [
        "text = 'Diwali is a gestival of lights, Holi is a festival of colors!'\n",
        "pattern='festival'"
      ],
      "execution_count": 4,
      "outputs": []
    },
    {
      "cell_type": "code",
      "metadata": {
        "colab": {
          "base_uri": "https://localhost:8080/"
        },
        "id": "bxIiEWb88dZM",
        "outputId": "d88e108c-370a-4614-f304-50636564af1d"
      },
      "source": [
        "for match in re.finditer(pattern,text):\n",
        "  s=match.start()\n",
        "  e=match.end()\n",
        "  print('%d: %d에서 \"%s\"을(를) 찾았습니다.' %(s,e,text[s:e]))"
      ],
      "execution_count": 5,
      "outputs": [
        {
          "output_type": "stream",
          "name": "stdout",
          "text": [
            "42: 50에서 \"festival\"을(를) 찾았습니다.\n"
          ]
        }
      ]
    }
  ]
}